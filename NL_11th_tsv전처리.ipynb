{
 "cells": [
  {
   "cell_type": "code",
   "execution_count": 1,
   "id": "7510637b",
   "metadata": {},
   "outputs": [],
   "source": [
    "max_length= 256"
   ]
  },
  {
   "cell_type": "markdown",
   "id": "59c23cc6",
   "metadata": {},
   "source": [
    "## 1. 데이터 불러오기"
   ]
  },
  {
   "cell_type": "code",
   "execution_count": 2,
   "id": "7caed498",
   "metadata": {},
   "outputs": [],
   "source": [
    "import pandas as pd"
   ]
  },
  {
   "cell_type": "code",
   "execution_count": 3,
   "id": "cbab63a2",
   "metadata": {},
   "outputs": [
    {
     "name": "stdout",
     "output_type": "stream",
     "text": [
      "Index(['label', 'sms'], dtype='object')\n",
      "(5575, 2)\n"
     ]
    }
   ],
   "source": [
    "df= pd.read_csv('data/sms.tsv', sep='\\t')\n",
    "print(df.columns)\n",
    "print(df.shape)"
   ]
  },
  {
   "cell_type": "code",
   "execution_count": 4,
   "id": "e4cf2d43",
   "metadata": {},
   "outputs": [
    {
     "data": {
      "text/html": [
       "<div>\n",
       "<style scoped>\n",
       "    .dataframe tbody tr th:only-of-type {\n",
       "        vertical-align: middle;\n",
       "    }\n",
       "\n",
       "    .dataframe tbody tr th {\n",
       "        vertical-align: top;\n",
       "    }\n",
       "\n",
       "    .dataframe thead th {\n",
       "        text-align: right;\n",
       "    }\n",
       "</style>\n",
       "<table border=\"1\" class=\"dataframe\">\n",
       "  <thead>\n",
       "    <tr style=\"text-align: right;\">\n",
       "      <th></th>\n",
       "      <th>label</th>\n",
       "      <th>sms</th>\n",
       "    </tr>\n",
       "  </thead>\n",
       "  <tbody>\n",
       "    <tr>\n",
       "      <th>0</th>\n",
       "      <td>ham</td>\n",
       "      <td>Go until jurong point, crazy.. Available only ...</td>\n",
       "    </tr>\n",
       "    <tr>\n",
       "      <th>1</th>\n",
       "      <td>ham</td>\n",
       "      <td>Ok lar... Joking wif u oni...</td>\n",
       "    </tr>\n",
       "    <tr>\n",
       "      <th>2</th>\n",
       "      <td>spam</td>\n",
       "      <td>Free entry in 2 a wkly comp to win FA Cup fina...</td>\n",
       "    </tr>\n",
       "    <tr>\n",
       "      <th>3</th>\n",
       "      <td>spam</td>\n",
       "      <td>%^^×？×^×&amp;#****,&gt;,;//×&amp;&gt;&gt;*(*^%=÷#~^&amp;,****)</td>\n",
       "    </tr>\n",
       "    <tr>\n",
       "      <th>4</th>\n",
       "      <td>ham</td>\n",
       "      <td>U dun say so early hor... U c already then say...</td>\n",
       "    </tr>\n",
       "  </tbody>\n",
       "</table>\n",
       "</div>"
      ],
      "text/plain": [
       "  label                                                sms\n",
       "0   ham  Go until jurong point, crazy.. Available only ...\n",
       "1   ham                      Ok lar... Joking wif u oni...\n",
       "2  spam  Free entry in 2 a wkly comp to win FA Cup fina...\n",
       "3  spam          %^^×？×^×&#****,>,;//×&>>*(*^%=÷#~^&,****)\n",
       "4   ham  U dun say so early hor... U c already then say..."
      ]
     },
     "execution_count": 4,
     "metadata": {},
     "output_type": "execute_result"
    }
   ],
   "source": [
    "df.head()"
   ]
  },
  {
   "cell_type": "code",
   "execution_count": 5,
   "id": "3af30615",
   "metadata": {},
   "outputs": [
    {
     "name": "stdout",
     "output_type": "stream",
     "text": [
      "# of classes: 2\n",
      "['ham', 'spam']\n",
      "{'ham': 0, 'spam': 1}\n"
     ]
    }
   ],
   "source": [
    "classes= sorted(set(df['label']))\n",
    "class_to_idx={}\n",
    "\n",
    "for i,c in enumerate(classes):\n",
    "    class_to_idx.update({c: i})\n",
    "\n",
    "n_class= len(classes)\n",
    "\n",
    "print('# of classes: %d' %n_class)\n",
    "print(classes)\n",
    "print(class_to_idx)"
   ]
  },
  {
   "cell_type": "markdown",
   "id": "8a88ae1e",
   "metadata": {},
   "source": [
    "## 2. 최대 텍스트 길이만큼 자르기"
   ]
  },
  {
   "cell_type": "code",
   "execution_count": 6,
   "id": "011a678f",
   "metadata": {},
   "outputs": [],
   "source": [
    "new_df= pd.DataFrame({'label':df['label'],\n",
    "                     'sms':df['sms'].str.slice(\n",
    "                         start=0, stop=max_length)\n",
    "                     })"
   ]
  },
  {
   "cell_type": "markdown",
   "id": "802019b9",
   "metadata": {},
   "source": [
    "## 3. 중복 제거"
   ]
  },
  {
   "cell_type": "code",
   "execution_count": 7,
   "id": "f102496d",
   "metadata": {},
   "outputs": [
    {
     "data": {
      "text/plain": [
       "5575"
      ]
     },
     "execution_count": 7,
     "metadata": {},
     "output_type": "execute_result"
    }
   ],
   "source": [
    "len(new_df)"
   ]
  },
  {
   "cell_type": "code",
   "execution_count": 8,
   "id": "51b5124a",
   "metadata": {},
   "outputs": [],
   "source": [
    "new_df= pd.DataFrame(new_df.drop_duplicates())"
   ]
  },
  {
   "cell_type": "code",
   "execution_count": 9,
   "id": "00a6911f",
   "metadata": {},
   "outputs": [
    {
     "data": {
      "text/plain": [
       "5172"
      ]
     },
     "execution_count": 9,
     "metadata": {},
     "output_type": "execute_result"
    }
   ],
   "source": [
    "len(new_df)"
   ]
  },
  {
   "cell_type": "markdown",
   "id": "8a56d882",
   "metadata": {},
   "source": [
    "## 4. 셔플"
   ]
  },
  {
   "cell_type": "code",
   "execution_count": 11,
   "id": "f0aeda35",
   "metadata": {},
   "outputs": [
    {
     "data": {
      "text/html": [
       "<div>\n",
       "<style scoped>\n",
       "    .dataframe tbody tr th:only-of-type {\n",
       "        vertical-align: middle;\n",
       "    }\n",
       "\n",
       "    .dataframe tbody tr th {\n",
       "        vertical-align: top;\n",
       "    }\n",
       "\n",
       "    .dataframe thead th {\n",
       "        text-align: right;\n",
       "    }\n",
       "</style>\n",
       "<table border=\"1\" class=\"dataframe\">\n",
       "  <thead>\n",
       "    <tr style=\"text-align: right;\">\n",
       "      <th></th>\n",
       "      <th>label</th>\n",
       "      <th>sms</th>\n",
       "    </tr>\n",
       "  </thead>\n",
       "  <tbody>\n",
       "    <tr>\n",
       "      <th>0</th>\n",
       "      <td>spam</td>\n",
       "      <td>PRIVATE! Your 2003 Account Statement for shows...</td>\n",
       "    </tr>\n",
       "    <tr>\n",
       "      <th>1</th>\n",
       "      <td>ham</td>\n",
       "      <td>Yeh. Indians was nice. Tho it did kane me off ...</td>\n",
       "    </tr>\n",
       "    <tr>\n",
       "      <th>2</th>\n",
       "      <td>spam</td>\n",
       "      <td>GENT! We are trying to contact you. Last weeke...</td>\n",
       "    </tr>\n",
       "    <tr>\n",
       "      <th>3</th>\n",
       "      <td>ham</td>\n",
       "      <td>K still are you loving me.</td>\n",
       "    </tr>\n",
       "    <tr>\n",
       "      <th>4</th>\n",
       "      <td>spam</td>\n",
       "      <td>Not heard from U4 a while. Call 4 rude chat pr...</td>\n",
       "    </tr>\n",
       "  </tbody>\n",
       "</table>\n",
       "</div>"
      ],
      "text/plain": [
       "  label                                                sms\n",
       "0  spam  PRIVATE! Your 2003 Account Statement for shows...\n",
       "1   ham  Yeh. Indians was nice. Tho it did kane me off ...\n",
       "2  spam  GENT! We are trying to contact you. Last weeke...\n",
       "3   ham                         K still are you loving me.\n",
       "4  spam  Not heard from U4 a while. Call 4 rude chat pr..."
      ]
     },
     "execution_count": 11,
     "metadata": {},
     "output_type": "execute_result"
    }
   ],
   "source": [
    "df_shuffled= new_df.sample(frac=1).reset_index(drop=True)\n",
    "df_shuffled.head()"
   ]
  },
  {
   "cell_type": "markdown",
   "id": "df1d946e",
   "metadata": {},
   "source": [
    "## 5. train, test 나누기"
   ]
  },
  {
   "cell_type": "code",
   "execution_count": 12,
   "id": "9c17e222",
   "metadata": {},
   "outputs": [
    {
     "name": "stdout",
     "output_type": "stream",
     "text": [
      "index for train: 0 ~ 4654\n",
      "index for test: 4654 ~ 5171\n"
     ]
    }
   ],
   "source": [
    "# train:test= 9:1\n",
    "train_ratio= 0.9\n",
    "\n",
    "#train dataset\n",
    "s, e= 0, int(df_shuffled.shape[0] * train_ratio) # #rows\n",
    "df_train= pd.DataFrame({'label':df_shuffled['label'][s:e],\n",
    "                       'sms':df_shuffled['sms'][s:e]})\n",
    "print('index for train: %d ~ %d'%(s, e))\n",
    "\n",
    "#test dataset\n",
    "s, e= e, e+int(df_shuffled.shape[0] * (1.0- train_ratio)) # #rows\n",
    "print('index for test: %d ~ %d'%(s, e))\n",
    "df_test= pd.DataFrame({'label':df_shuffled['label'][s:e],\n",
    "                       'sms':df_shuffled['sms'][s:e]})"
   ]
  },
  {
   "cell_type": "code",
   "execution_count": 13,
   "id": "4c22b3f9",
   "metadata": {},
   "outputs": [
    {
     "name": "stdout",
     "output_type": "stream",
     "text": [
      "(4654, 2)\n",
      "(517, 2)\n"
     ]
    }
   ],
   "source": [
    "print(df_train.shape)\n",
    "print(df_test.shape)"
   ]
  },
  {
   "cell_type": "code",
   "execution_count": 14,
   "id": "67c4c914",
   "metadata": {},
   "outputs": [],
   "source": [
    "df_train.to_csv('./data/sms.maxlen.uniq.shuf.train.tsv',\n",
    "               header=False, index=False, sep='\\t')\n",
    "df_test.to_csv('./data/sms.maxlen.uniq.shuf.test.tsv',\n",
    "               header=False, index=False, sep='\\t')"
   ]
  },
  {
   "cell_type": "code",
   "execution_count": null,
   "id": "c42030dd",
   "metadata": {},
   "outputs": [],
   "source": []
  }
 ],
 "metadata": {
  "kernelspec": {
   "display_name": "conda_pytorch_p36",
   "language": "python",
   "name": "conda_pytorch_p36"
  },
  "language_info": {
   "codemirror_mode": {
    "name": "ipython",
    "version": 3
   },
   "file_extension": ".py",
   "mimetype": "text/x-python",
   "name": "python",
   "nbconvert_exporter": "python",
   "pygments_lexer": "ipython3",
   "version": "3.6.13"
  }
 },
 "nbformat": 4,
 "nbformat_minor": 5
}
